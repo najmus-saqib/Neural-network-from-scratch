{
 "cells": [
  {
   "cell_type": "code",
   "execution_count": 1,
   "metadata": {},
   "outputs": [],
   "source": [
    "#perceptron \n",
    "import numpy as np"
   ]
  },
  {
   "cell_type": "code",
   "execution_count": 13,
   "metadata": {},
   "outputs": [],
   "source": [
    "#create a sigmoid fuction which return numbers between 0 and 1 only\n",
    "def sigmoid(x):\n",
    "    return 1 / (1+np.exp(-x))  #sigmoid function\n",
    "\n",
    "def sigmoid_derivative(x):\n",
    "    return x * (1-x)"
   ]
  },
  {
   "cell_type": "code",
   "execution_count": 7,
   "metadata": {},
   "outputs": [],
   "source": [
    "#Define the training inputs and outputs\n",
    "training_inputs = np.array([[0,0,1], #this is the input to our network 3x4 matrix\n",
    "                          [1,0,1],\n",
    "                          [1,0,1],\n",
    "                          [0,1,0]])\n",
    "\n",
    "training_outputs = np.array([[0,1,1,0]]).T"
   ]
  },
  {
   "cell_type": "code",
   "execution_count": 5,
   "metadata": {},
   "outputs": [
    {
     "name": "stdout",
     "output_type": "stream",
     "text": [
      "Random starting synaptic weights : \n",
      "[[-0.16595599]\n",
      " [ 0.44064899]\n",
      " [-0.99977125]]\n"
     ]
    }
   ],
   "source": [
    "#Initializing weights with random values (-1) - (1)\n",
    "np.random.seed(1)\n",
    "\n",
    "synaptic_weights = 2 * np.random.random((3,1)) -1\n",
    "print('Random starting synaptic weights : ')\n",
    "print(synaptic_weights)"
   ]
  },
  {
   "cell_type": "code",
   "execution_count": 23,
   "metadata": {},
   "outputs": [],
   "source": [
    "#creating the loop for training \n",
    "for iteration in range(100000):\n",
    "    input_layer = training_inputs\n",
    "    outputs = sigmoid(np.dot(input_layer,synaptic_weights))\n",
    "    \n",
    "#print('output after training :')\n",
    "#print(outputs)"
   ]
  },
  {
   "cell_type": "markdown",
   "metadata": {},
   "source": [
    "Normally after training we should get outputs like training_outputs i.e [0,1,1,0]\n",
    "This is why we need a training process.The training process is shown below:\n",
    "1.Take the inputs from the training example and put them throgh the formula to get the neurons o/p\n",
    "2.Then we calculate the error which is the difference between the output we got and the actual output\n",
    "3.Depending on the severeness of the error ,adjust the weights accordingly\n",
    "4.Repeat the process 20,000 times\n",
    "This whole process is called backpropagation"
   ]
  },
  {
   "cell_type": "markdown",
   "metadata": {},
   "source": [
    "Error Weighted Derivative:\n",
    "One might wonder by which values we have to adjust the weights for that we use\n",
    "error weighted Derivative:\\n\n",
    "Adjusted Weights = error.input.phi'(output)\n",
    "    Error = output-actual output\n",
    "    input = either 1 or 0  (see notes)"
   ]
  },
  {
   "cell_type": "code",
   "execution_count": 24,
   "metadata": {},
   "outputs": [
    {
     "name": "stdout",
     "output_type": "stream",
     "text": [
      "synaptic weights  after training :\n",
      "[[ 1.51549282]\n",
      " [-0.47804764]\n",
      " [ 0.08572842]]\n",
      "output after training :\n",
      "[[0.54415707]\n",
      " [0.83875117]\n",
      " [0.83875117]\n",
      " [0.40610214]]\n"
     ]
    }
   ],
   "source": [
    "#calculting the error\n",
    "error = training_outputs - outputs  #actual op\n",
    "adjustments = error * sigmoid_derivative(outputs)\n",
    "synaptic_weights +=np.dot(input_layer.T,adjustments)\n",
    "\n",
    "print('synaptic weights  after training :')\n",
    "print(synaptic_weights)\n",
    "print('output after training :')\n",
    "print(outputs)"
   ]
  },
  {
   "cell_type": "code",
   "execution_count": null,
   "metadata": {},
   "outputs": [],
   "source": []
  }
 ],
 "metadata": {
  "kernelspec": {
   "display_name": "Python 3",
   "language": "python",
   "name": "python3"
  },
  "language_info": {
   "codemirror_mode": {
    "name": "ipython",
    "version": 3
   },
   "file_extension": ".py",
   "mimetype": "text/x-python",
   "name": "python",
   "nbconvert_exporter": "python",
   "pygments_lexer": "ipython3",
   "version": "3.7.1"
  }
 },
 "nbformat": 4,
 "nbformat_minor": 2
}
